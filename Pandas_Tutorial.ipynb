{
  "nbformat": 4,
  "nbformat_minor": 0,
  "metadata": {
    "anaconda-cloud": {},
    "kernelspec": {
      "display_name": "Python [conda root]",
      "language": "python",
      "name": "conda-root-py"
    },
    "language_info": {
      "codemirror_mode": {
        "name": "ipython",
        "version": 2
      },
      "file_extension": ".py",
      "mimetype": "text/x-python",
      "name": "python",
      "nbconvert_exporter": "python",
      "pygments_lexer": "ipython2",
      "version": "2.7.12"
    },
    "colab": {
      "name": "Pandas Tutorial.ipynb",
      "provenance": [],
      "include_colab_link": true
    }
  },
  "cells": [
    {
      "cell_type": "markdown",
      "metadata": {
        "id": "view-in-github",
        "colab_type": "text"
      },
      "source": [
        "<a href=\"https://colab.research.google.com/github/David9203/Clustering-Validity-Methods-sessions/blob/main/Pandas_Tutorial.ipynb\" target=\"_parent\"><img src=\"https://colab.research.google.com/assets/colab-badge.svg\" alt=\"Open In Colab\"/></a>"
      ]
    },
    {
      "cell_type": "markdown",
      "metadata": {
        "id": "yOhmemKVwy9F"
      },
      "source": [
        "# Introduction"
      ]
    },
    {
      "cell_type": "code",
      "metadata": {
        "colab": {
          "base_uri": "https://localhost:8080/"
        },
        "id": "Qc8H6McEz_f9",
        "outputId": "52e2e5ae-b267-4f40-a455-4928ce2c5ee8"
      },
      "source": [
        "cd /content"
      ],
      "execution_count": null,
      "outputs": [
        {
          "output_type": "stream",
          "name": "stdout",
          "text": [
            "/content\n"
          ]
        }
      ]
    },
    {
      "cell_type": "code",
      "metadata": {
        "colab": {
          "base_uri": "https://localhost:8080/"
        },
        "id": "WS5BtYbXzzYQ",
        "outputId": "69c78876-f38b-4a27-a877-a3add91d6cf5"
      },
      "source": [
        "!git clone https://github.com/adeshpande3/Pandas-Tutorial/\n"
      ],
      "execution_count": null,
      "outputs": [
        {
          "output_type": "stream",
          "name": "stdout",
          "text": [
            "Cloning into 'Pandas-Tutorial'...\n",
            "remote: Enumerating objects: 27, done.\u001b[K\n",
            "remote: Total 27 (delta 0), reused 0 (delta 0), pack-reused 27\u001b[K\n",
            "Unpacking objects: 100% (27/27), done.\n"
          ]
        }
      ]
    },
    {
      "cell_type": "code",
      "metadata": {
        "colab": {
          "base_uri": "https://localhost:8080/"
        },
        "id": "QycMpWGSz5qh",
        "outputId": "29553bb0-cfc2-4d23-cef6-e4ddd1a94ec1"
      },
      "source": [
        "cd Pandas-Tutorial/"
      ],
      "execution_count": null,
      "outputs": [
        {
          "output_type": "stream",
          "name": "stdout",
          "text": [
            "/content/Pandas-Tutorial\n"
          ]
        }
      ]
    },
    {
      "cell_type": "code",
      "metadata": {
        "colab": {
          "base_uri": "https://localhost:8080/"
        },
        "id": "oS9eYcqz0JqC",
        "outputId": "dc7ee618-b130-484f-ec58-5d344a3d847a"
      },
      "source": [
        "ls"
      ],
      "execution_count": null,
      "outputs": [
        {
          "output_type": "stream",
          "name": "stdout",
          "text": [
            " DataStructures.png       README.md                         result.csv\n",
            "'Pandas Tutorial.ipynb'   RegularSeasonCompactResults.csv\n"
          ]
        }
      ]
    },
    {
      "cell_type": "code",
      "metadata": {
        "collapsed": true,
        "id": "6-v65-lVwy9I"
      },
      "source": [
        "import pandas as pd"
      ],
      "execution_count": null,
      "outputs": []
    },
    {
      "cell_type": "markdown",
      "metadata": {
        "id": "AUYJZxvEwy9K"
      },
      "source": [
        "# Loading in Data"
      ]
    },
    {
      "cell_type": "markdown",
      "metadata": {
        "id": "3ehugDMAwy9K"
      },
      "source": [
        " sports dataset that shows the results from NCAA basketball games from 1985 to 2016. This dataset is in a CSV file, and the function we're going to use to read in the file is called **pd.read_csv()**. This function returns a **dataframe** variable. The dataframe is the golden jewel data structure for Pandas. It is defined as \"a two-dimensional size-mutable, potentially heterogeneous tabular data structure with labeled axes (rows and columns)\"."
      ]
    },
    {
      "cell_type": "markdown",
      "metadata": {
        "id": "5ZORSmrCwy9K"
      },
      "source": [
        "The first step in any ML problem is identifying what format your data is in, and then loading it into whatever framework you're using. For Kaggle compeitions, a lot of data can be found in CSV files, so that's the example we're going to use. \n",
        "\n",
        "RegularSeasonCompactResults\n",
        "\n",
        "This file identifies the game-by-game results for 32 seasons of historical data, from 1985 to 2015. Each year, it includes all games played from daynum 0 through 132 (which by definition is \"Selection Sunday,\" the day that tournament pairings are announced). Each row in the file represents a single game played.\n",
        "\n",
        "\"season\" - the year in which the final tournament occurs\n",
        "\n",
        "\"daynum\" - this integer always ranges from 0 to 132, and tells you what day the game was played on. It represents an offset from the \"dayzero\". For example, the first game in the file was daynum=20. \n",
        "\n",
        "\"wteam\" - this identifies the id number of the team that won the game\n",
        "\n",
        "\"wscore\" - this identifies the number of points scored by the winning team.\n",
        "\n",
        "\"lteam\" - this identifies the id number of the team that lost the game.\n",
        "\n",
        "\"lscore\" - this identifies the number of points scored by the losing team.\n",
        "\n",
        "\"numot\" - this indicates the number of overtime periods in the game, an integer 0 or higher.\n",
        "\n",
        "\"wloc\" - this identifies the \"location\" of the winning team. If the winning team was the home team, this value will be \"H\". If the winning team was the visiting team, this value will be \"A\""
      ]
    },
    {
      "cell_type": "code",
      "metadata": {
        "id": "NQ6BBDvDwy9L"
      },
      "source": [
        "df = pd.read_csv('RegularSeasonCompactResults.csv')"
      ],
      "execution_count": null,
      "outputs": []
    },
    {
      "cell_type": "code",
      "metadata": {
        "colab": {
          "base_uri": "https://localhost:8080/",
          "height": 419
        },
        "id": "aLZPFqvDd_DD",
        "outputId": "0f6ea106-a790-4194-c68b-cc01b2a026b2"
      },
      "source": [
        "df"
      ],
      "execution_count": null,
      "outputs": [
        {
          "output_type": "execute_result",
          "data": {
            "text/html": [
              "<div>\n",
              "<style scoped>\n",
              "    .dataframe tbody tr th:only-of-type {\n",
              "        vertical-align: middle;\n",
              "    }\n",
              "\n",
              "    .dataframe tbody tr th {\n",
              "        vertical-align: top;\n",
              "    }\n",
              "\n",
              "    .dataframe thead th {\n",
              "        text-align: right;\n",
              "    }\n",
              "</style>\n",
              "<table border=\"1\" class=\"dataframe\">\n",
              "  <thead>\n",
              "    <tr style=\"text-align: right;\">\n",
              "      <th></th>\n",
              "      <th>Season</th>\n",
              "      <th>Daynum</th>\n",
              "      <th>Wteam</th>\n",
              "      <th>Wscore</th>\n",
              "      <th>Lteam</th>\n",
              "      <th>Lscore</th>\n",
              "      <th>Wloc</th>\n",
              "      <th>Numot</th>\n",
              "    </tr>\n",
              "  </thead>\n",
              "  <tbody>\n",
              "    <tr>\n",
              "      <th>0</th>\n",
              "      <td>1985</td>\n",
              "      <td>20</td>\n",
              "      <td>1228</td>\n",
              "      <td>81</td>\n",
              "      <td>1328</td>\n",
              "      <td>64</td>\n",
              "      <td>N</td>\n",
              "      <td>0</td>\n",
              "    </tr>\n",
              "    <tr>\n",
              "      <th>1</th>\n",
              "      <td>1985</td>\n",
              "      <td>25</td>\n",
              "      <td>1106</td>\n",
              "      <td>77</td>\n",
              "      <td>1354</td>\n",
              "      <td>70</td>\n",
              "      <td>H</td>\n",
              "      <td>0</td>\n",
              "    </tr>\n",
              "    <tr>\n",
              "      <th>2</th>\n",
              "      <td>1985</td>\n",
              "      <td>25</td>\n",
              "      <td>1112</td>\n",
              "      <td>63</td>\n",
              "      <td>1223</td>\n",
              "      <td>56</td>\n",
              "      <td>H</td>\n",
              "      <td>0</td>\n",
              "    </tr>\n",
              "    <tr>\n",
              "      <th>3</th>\n",
              "      <td>1985</td>\n",
              "      <td>25</td>\n",
              "      <td>1165</td>\n",
              "      <td>70</td>\n",
              "      <td>1432</td>\n",
              "      <td>54</td>\n",
              "      <td>H</td>\n",
              "      <td>0</td>\n",
              "    </tr>\n",
              "    <tr>\n",
              "      <th>4</th>\n",
              "      <td>1985</td>\n",
              "      <td>25</td>\n",
              "      <td>1192</td>\n",
              "      <td>86</td>\n",
              "      <td>1447</td>\n",
              "      <td>74</td>\n",
              "      <td>H</td>\n",
              "      <td>0</td>\n",
              "    </tr>\n",
              "    <tr>\n",
              "      <th>...</th>\n",
              "      <td>...</td>\n",
              "      <td>...</td>\n",
              "      <td>...</td>\n",
              "      <td>...</td>\n",
              "      <td>...</td>\n",
              "      <td>...</td>\n",
              "      <td>...</td>\n",
              "      <td>...</td>\n",
              "    </tr>\n",
              "    <tr>\n",
              "      <th>145284</th>\n",
              "      <td>2016</td>\n",
              "      <td>132</td>\n",
              "      <td>1114</td>\n",
              "      <td>70</td>\n",
              "      <td>1419</td>\n",
              "      <td>50</td>\n",
              "      <td>N</td>\n",
              "      <td>0</td>\n",
              "    </tr>\n",
              "    <tr>\n",
              "      <th>145285</th>\n",
              "      <td>2016</td>\n",
              "      <td>132</td>\n",
              "      <td>1163</td>\n",
              "      <td>72</td>\n",
              "      <td>1272</td>\n",
              "      <td>58</td>\n",
              "      <td>N</td>\n",
              "      <td>0</td>\n",
              "    </tr>\n",
              "    <tr>\n",
              "      <th>145286</th>\n",
              "      <td>2016</td>\n",
              "      <td>132</td>\n",
              "      <td>1246</td>\n",
              "      <td>82</td>\n",
              "      <td>1401</td>\n",
              "      <td>77</td>\n",
              "      <td>N</td>\n",
              "      <td>1</td>\n",
              "    </tr>\n",
              "    <tr>\n",
              "      <th>145287</th>\n",
              "      <td>2016</td>\n",
              "      <td>132</td>\n",
              "      <td>1277</td>\n",
              "      <td>66</td>\n",
              "      <td>1345</td>\n",
              "      <td>62</td>\n",
              "      <td>N</td>\n",
              "      <td>0</td>\n",
              "    </tr>\n",
              "    <tr>\n",
              "      <th>145288</th>\n",
              "      <td>2016</td>\n",
              "      <td>132</td>\n",
              "      <td>1386</td>\n",
              "      <td>87</td>\n",
              "      <td>1433</td>\n",
              "      <td>74</td>\n",
              "      <td>N</td>\n",
              "      <td>0</td>\n",
              "    </tr>\n",
              "  </tbody>\n",
              "</table>\n",
              "<p>145289 rows × 8 columns</p>\n",
              "</div>"
            ],
            "text/plain": [
              "        Season  Daynum  Wteam  Wscore  Lteam  Lscore Wloc  Numot\n",
              "0         1985      20   1228      81   1328      64    N      0\n",
              "1         1985      25   1106      77   1354      70    H      0\n",
              "2         1985      25   1112      63   1223      56    H      0\n",
              "3         1985      25   1165      70   1432      54    H      0\n",
              "4         1985      25   1192      86   1447      74    H      0\n",
              "...        ...     ...    ...     ...    ...     ...  ...    ...\n",
              "145284    2016     132   1114      70   1419      50    N      0\n",
              "145285    2016     132   1163      72   1272      58    N      0\n",
              "145286    2016     132   1246      82   1401      77    N      1\n",
              "145287    2016     132   1277      66   1345      62    N      0\n",
              "145288    2016     132   1386      87   1433      74    N      0\n",
              "\n",
              "[145289 rows x 8 columns]"
            ]
          },
          "metadata": {},
          "execution_count": 8
        }
      ]
    },
    {
      "cell_type": "markdown",
      "metadata": {
        "id": "A5Yy04N_wy9M"
      },
      "source": [
        "# The Basics"
      ]
    },
    {
      "cell_type": "markdown",
      "metadata": {
        "id": "VmyXglDgwy9M"
      },
      "source": [
        "Now that we have our dataframe in our variable df, let's look at what it contains. We can use the function **head()** to see the first couple rows of the dataframe (or the function **tail()** to see the last few rows)."
      ]
    },
    {
      "cell_type": "code",
      "metadata": {
        "id": "BC9BDoEewy9N",
        "colab": {
          "base_uri": "https://localhost:8080/",
          "height": 204
        },
        "outputId": "b528b572-74b4-4001-d7b3-f584ab2d2478"
      },
      "source": [
        "df.head()"
      ],
      "execution_count": null,
      "outputs": [
        {
          "output_type": "execute_result",
          "data": {
            "text/html": [
              "<div>\n",
              "<style scoped>\n",
              "    .dataframe tbody tr th:only-of-type {\n",
              "        vertical-align: middle;\n",
              "    }\n",
              "\n",
              "    .dataframe tbody tr th {\n",
              "        vertical-align: top;\n",
              "    }\n",
              "\n",
              "    .dataframe thead th {\n",
              "        text-align: right;\n",
              "    }\n",
              "</style>\n",
              "<table border=\"1\" class=\"dataframe\">\n",
              "  <thead>\n",
              "    <tr style=\"text-align: right;\">\n",
              "      <th></th>\n",
              "      <th>Season</th>\n",
              "      <th>Daynum</th>\n",
              "      <th>Wteam</th>\n",
              "      <th>Wscore</th>\n",
              "      <th>Lteam</th>\n",
              "      <th>Lscore</th>\n",
              "      <th>Wloc</th>\n",
              "      <th>Numot</th>\n",
              "    </tr>\n",
              "  </thead>\n",
              "  <tbody>\n",
              "    <tr>\n",
              "      <th>0</th>\n",
              "      <td>1985</td>\n",
              "      <td>20</td>\n",
              "      <td>1228</td>\n",
              "      <td>81</td>\n",
              "      <td>1328</td>\n",
              "      <td>64</td>\n",
              "      <td>N</td>\n",
              "      <td>0</td>\n",
              "    </tr>\n",
              "    <tr>\n",
              "      <th>1</th>\n",
              "      <td>1985</td>\n",
              "      <td>25</td>\n",
              "      <td>1106</td>\n",
              "      <td>77</td>\n",
              "      <td>1354</td>\n",
              "      <td>70</td>\n",
              "      <td>H</td>\n",
              "      <td>0</td>\n",
              "    </tr>\n",
              "    <tr>\n",
              "      <th>2</th>\n",
              "      <td>1985</td>\n",
              "      <td>25</td>\n",
              "      <td>1112</td>\n",
              "      <td>63</td>\n",
              "      <td>1223</td>\n",
              "      <td>56</td>\n",
              "      <td>H</td>\n",
              "      <td>0</td>\n",
              "    </tr>\n",
              "    <tr>\n",
              "      <th>3</th>\n",
              "      <td>1985</td>\n",
              "      <td>25</td>\n",
              "      <td>1165</td>\n",
              "      <td>70</td>\n",
              "      <td>1432</td>\n",
              "      <td>54</td>\n",
              "      <td>H</td>\n",
              "      <td>0</td>\n",
              "    </tr>\n",
              "    <tr>\n",
              "      <th>4</th>\n",
              "      <td>1985</td>\n",
              "      <td>25</td>\n",
              "      <td>1192</td>\n",
              "      <td>86</td>\n",
              "      <td>1447</td>\n",
              "      <td>74</td>\n",
              "      <td>H</td>\n",
              "      <td>0</td>\n",
              "    </tr>\n",
              "  </tbody>\n",
              "</table>\n",
              "</div>"
            ],
            "text/plain": [
              "   Season  Daynum  Wteam  Wscore  Lteam  Lscore Wloc  Numot\n",
              "0    1985      20   1228      81   1328      64    N      0\n",
              "1    1985      25   1106      77   1354      70    H      0\n",
              "2    1985      25   1112      63   1223      56    H      0\n",
              "3    1985      25   1165      70   1432      54    H      0\n",
              "4    1985      25   1192      86   1447      74    H      0"
            ]
          },
          "metadata": {},
          "execution_count": 9
        }
      ]
    },
    {
      "cell_type": "code",
      "metadata": {
        "id": "HIQP9Sc3wy9O",
        "colab": {
          "base_uri": "https://localhost:8080/",
          "height": 204
        },
        "outputId": "3c5f97da-7fc7-45d5-f59d-2f8c8f5ebeb8"
      },
      "source": [
        "df.tail()"
      ],
      "execution_count": null,
      "outputs": [
        {
          "output_type": "execute_result",
          "data": {
            "text/html": [
              "<div>\n",
              "<style scoped>\n",
              "    .dataframe tbody tr th:only-of-type {\n",
              "        vertical-align: middle;\n",
              "    }\n",
              "\n",
              "    .dataframe tbody tr th {\n",
              "        vertical-align: top;\n",
              "    }\n",
              "\n",
              "    .dataframe thead th {\n",
              "        text-align: right;\n",
              "    }\n",
              "</style>\n",
              "<table border=\"1\" class=\"dataframe\">\n",
              "  <thead>\n",
              "    <tr style=\"text-align: right;\">\n",
              "      <th></th>\n",
              "      <th>Season</th>\n",
              "      <th>Daynum</th>\n",
              "      <th>Wteam</th>\n",
              "      <th>Wscore</th>\n",
              "      <th>Lteam</th>\n",
              "      <th>Lscore</th>\n",
              "      <th>Wloc</th>\n",
              "      <th>Numot</th>\n",
              "    </tr>\n",
              "  </thead>\n",
              "  <tbody>\n",
              "    <tr>\n",
              "      <th>145284</th>\n",
              "      <td>2016</td>\n",
              "      <td>132</td>\n",
              "      <td>1114</td>\n",
              "      <td>70</td>\n",
              "      <td>1419</td>\n",
              "      <td>50</td>\n",
              "      <td>N</td>\n",
              "      <td>0</td>\n",
              "    </tr>\n",
              "    <tr>\n",
              "      <th>145285</th>\n",
              "      <td>2016</td>\n",
              "      <td>132</td>\n",
              "      <td>1163</td>\n",
              "      <td>72</td>\n",
              "      <td>1272</td>\n",
              "      <td>58</td>\n",
              "      <td>N</td>\n",
              "      <td>0</td>\n",
              "    </tr>\n",
              "    <tr>\n",
              "      <th>145286</th>\n",
              "      <td>2016</td>\n",
              "      <td>132</td>\n",
              "      <td>1246</td>\n",
              "      <td>82</td>\n",
              "      <td>1401</td>\n",
              "      <td>77</td>\n",
              "      <td>N</td>\n",
              "      <td>1</td>\n",
              "    </tr>\n",
              "    <tr>\n",
              "      <th>145287</th>\n",
              "      <td>2016</td>\n",
              "      <td>132</td>\n",
              "      <td>1277</td>\n",
              "      <td>66</td>\n",
              "      <td>1345</td>\n",
              "      <td>62</td>\n",
              "      <td>N</td>\n",
              "      <td>0</td>\n",
              "    </tr>\n",
              "    <tr>\n",
              "      <th>145288</th>\n",
              "      <td>2016</td>\n",
              "      <td>132</td>\n",
              "      <td>1386</td>\n",
              "      <td>87</td>\n",
              "      <td>1433</td>\n",
              "      <td>74</td>\n",
              "      <td>N</td>\n",
              "      <td>0</td>\n",
              "    </tr>\n",
              "  </tbody>\n",
              "</table>\n",
              "</div>"
            ],
            "text/plain": [
              "        Season  Daynum  Wteam  Wscore  Lteam  Lscore Wloc  Numot\n",
              "145284    2016     132   1114      70   1419      50    N      0\n",
              "145285    2016     132   1163      72   1272      58    N      0\n",
              "145286    2016     132   1246      82   1401      77    N      1\n",
              "145287    2016     132   1277      66   1345      62    N      0\n",
              "145288    2016     132   1386      87   1433      74    N      0"
            ]
          },
          "metadata": {},
          "execution_count": 10
        }
      ]
    },
    {
      "cell_type": "markdown",
      "metadata": {
        "id": "Z8jt8xZuwy9O"
      },
      "source": [
        "We can see the dimensions of the dataframe using the the **shape** attribute"
      ]
    },
    {
      "cell_type": "code",
      "metadata": {
        "id": "iOh0lMu0wy9O",
        "colab": {
          "base_uri": "https://localhost:8080/"
        },
        "outputId": "7cec7e96-5360-43aa-c355-67931e9d6d16"
      },
      "source": [
        "df.shape"
      ],
      "execution_count": null,
      "outputs": [
        {
          "output_type": "execute_result",
          "data": {
            "text/plain": [
              "(145289, 8)"
            ]
          },
          "metadata": {},
          "execution_count": 11
        }
      ]
    },
    {
      "cell_type": "markdown",
      "metadata": {
        "collapsed": true,
        "id": "M6OmYPgZwy9P"
      },
      "source": [
        "We can also extract all the column names as a list, by using the **columns** attribute and can extract the rows with the **index** attribute"
      ]
    },
    {
      "cell_type": "code",
      "metadata": {
        "colab": {
          "base_uri": "https://localhost:8080/",
          "height": 282
        },
        "id": "7pZE6XkEeWJ5",
        "outputId": "5efbf08d-3cd0-49cc-8057-7956380eba0c"
      },
      "source": [
        "df.boxplot()"
      ],
      "execution_count": null,
      "outputs": [
        {
          "output_type": "execute_result",
          "data": {
            "text/plain": [
              "<matplotlib.axes._subplots.AxesSubplot at 0x7f90da13ae90>"
            ]
          },
          "metadata": {},
          "execution_count": 14
        },
        {
          "output_type": "display_data",
          "data": {
            "image/png": "[encoded data removed]",
            "text/plain": [
              "<Figure size 432x288 with 1 Axes>"
            ]
          },
          "metadata": {
            "needs_background": "light"
          }
        }
      ]
    },
    {
      "cell_type": "code",
      "metadata": {
        "id": "vhXXrMOYwy9P",
        "colab": {
          "base_uri": "https://localhost:8080/"
        },
        "outputId": "d3de9002-1bb3-4268-b7a2-3eb4036aad5d"
      },
      "source": [
        "df.columns.tolist()"
      ],
      "execution_count": null,
      "outputs": [
        {
          "output_type": "execute_result",
          "data": {
            "text/plain": [
              "['Season', 'Daynum', 'Wteam', 'Wscore', 'Lteam', 'Lscore', 'Wloc', 'Numot']"
            ]
          },
          "metadata": {},
          "execution_count": 12
        }
      ]
    },
    {
      "cell_type": "markdown",
      "metadata": {
        "id": "1nggmm9Ewy9P"
      },
      "source": [
        "In order to get a better idea of the type of data that we are dealing with, we can call the **describe()** function to see statistics like mean, min, etc about each column of the dataset. "
      ]
    },
    {
      "cell_type": "code",
      "metadata": {
        "id": "dJcVavmowy9Q",
        "colab": {
          "base_uri": "https://localhost:8080/",
          "height": 297
        },
        "outputId": "072a468a-a809-4d69-cb27-e342c376fb90"
      },
      "source": [
        "df.describe()"
      ],
      "execution_count": null,
      "outputs": [
        {
          "output_type": "execute_result",
          "data": {
            "text/html": [
              "<div>\n",
              "<style scoped>\n",
              "    .dataframe tbody tr th:only-of-type {\n",
              "        vertical-align: middle;\n",
              "    }\n",
              "\n",
              "    .dataframe tbody tr th {\n",
              "        vertical-align: top;\n",
              "    }\n",
              "\n",
              "    .dataframe thead th {\n",
              "        text-align: right;\n",
              "    }\n",
              "</style>\n",
              "<table border=\"1\" class=\"dataframe\">\n",
              "  <thead>\n",
              "    <tr style=\"text-align: right;\">\n",
              "      <th></th>\n",
              "      <th>Season</th>\n",
              "      <th>Daynum</th>\n",
              "      <th>Wteam</th>\n",
              "      <th>Wscore</th>\n",
              "      <th>Lteam</th>\n",
              "      <th>Lscore</th>\n",
              "      <th>Numot</th>\n",
              "    </tr>\n",
              "  </thead>\n",
              "  <tbody>\n",
              "    <tr>\n",
              "      <th>count</th>\n",
              "      <td>145289.000000</td>\n",
              "      <td>145289.000000</td>\n",
              "      <td>145289.000000</td>\n",
              "      <td>145289.000000</td>\n",
              "      <td>145289.000000</td>\n",
              "      <td>145289.000000</td>\n",
              "      <td>145289.000000</td>\n",
              "    </tr>\n",
              "    <tr>\n",
              "      <th>mean</th>\n",
              "      <td>2001.574834</td>\n",
              "      <td>75.223816</td>\n",
              "      <td>1286.720646</td>\n",
              "      <td>76.600321</td>\n",
              "      <td>1282.864064</td>\n",
              "      <td>64.497009</td>\n",
              "      <td>0.044387</td>\n",
              "    </tr>\n",
              "    <tr>\n",
              "      <th>std</th>\n",
              "      <td>9.233342</td>\n",
              "      <td>33.287418</td>\n",
              "      <td>104.570275</td>\n",
              "      <td>12.173033</td>\n",
              "      <td>104.829234</td>\n",
              "      <td>11.380625</td>\n",
              "      <td>0.247819</td>\n",
              "    </tr>\n",
              "    <tr>\n",
              "      <th>min</th>\n",
              "      <td>1985.000000</td>\n",
              "      <td>0.000000</td>\n",
              "      <td>1101.000000</td>\n",
              "      <td>34.000000</td>\n",
              "      <td>1101.000000</td>\n",
              "      <td>20.000000</td>\n",
              "      <td>0.000000</td>\n",
              "    </tr>\n",
              "    <tr>\n",
              "      <th>25%</th>\n",
              "      <td>1994.000000</td>\n",
              "      <td>47.000000</td>\n",
              "      <td>1198.000000</td>\n",
              "      <td>68.000000</td>\n",
              "      <td>1191.000000</td>\n",
              "      <td>57.000000</td>\n",
              "      <td>0.000000</td>\n",
              "    </tr>\n",
              "    <tr>\n",
              "      <th>50%</th>\n",
              "      <td>2002.000000</td>\n",
              "      <td>78.000000</td>\n",
              "      <td>1284.000000</td>\n",
              "      <td>76.000000</td>\n",
              "      <td>1280.000000</td>\n",
              "      <td>64.000000</td>\n",
              "      <td>0.000000</td>\n",
              "    </tr>\n",
              "    <tr>\n",
              "      <th>75%</th>\n",
              "      <td>2010.000000</td>\n",
              "      <td>103.000000</td>\n",
              "      <td>1379.000000</td>\n",
              "      <td>84.000000</td>\n",
              "      <td>1375.000000</td>\n",
              "      <td>72.000000</td>\n",
              "      <td>0.000000</td>\n",
              "    </tr>\n",
              "    <tr>\n",
              "      <th>max</th>\n",
              "      <td>2016.000000</td>\n",
              "      <td>132.000000</td>\n",
              "      <td>1464.000000</td>\n",
              "      <td>186.000000</td>\n",
              "      <td>1464.000000</td>\n",
              "      <td>150.000000</td>\n",
              "      <td>6.000000</td>\n",
              "    </tr>\n",
              "  </tbody>\n",
              "</table>\n",
              "</div>"
            ],
            "text/plain": [
              "              Season         Daynum  ...         Lscore          Numot\n",
              "count  145289.000000  145289.000000  ...  145289.000000  145289.000000\n",
              "mean     2001.574834      75.223816  ...      64.497009       0.044387\n",
              "std         9.233342      33.287418  ...      11.380625       0.247819\n",
              "min      1985.000000       0.000000  ...      20.000000       0.000000\n",
              "25%      1994.000000      47.000000  ...      57.000000       0.000000\n",
              "50%      2002.000000      78.000000  ...      64.000000       0.000000\n",
              "75%      2010.000000     103.000000  ...      72.000000       0.000000\n",
              "max      2016.000000     132.000000  ...     150.000000       6.000000\n",
              "\n",
              "[8 rows x 7 columns]"
            ]
          },
          "metadata": {},
          "execution_count": 15
        }
      ]
    },
    {
      "cell_type": "markdown",
      "metadata": {
        "id": "lp6xL1ZPwy9Q"
      },
      "source": [
        "Okay, so now let's looking at information that we want to extract from the dataframe. Let's say I wanted to know the max value of a certain column. The function **max()** will show you the maximum values of all columns"
      ]
    },
    {
      "cell_type": "code",
      "metadata": {
        "id": "lZgTpydLwy9Q",
        "colab": {
          "base_uri": "https://localhost:8080/"
        },
        "outputId": "90cf7b76-4054-44f4-807b-c20d3f6ebf44"
      },
      "source": [
        "df.max()"
      ],
      "execution_count": null,
      "outputs": [
        {
          "output_type": "execute_result",
          "data": {
            "text/plain": [
              "Season    2016\n",
              "Daynum     132\n",
              "Wteam     1464\n",
              "Wscore     186\n",
              "Lteam     1464\n",
              "Lscore     150\n",
              "Wloc         N\n",
              "Numot        6\n",
              "dtype: object"
            ]
          },
          "metadata": {},
          "execution_count": 16
        }
      ]
    },
    {
      "cell_type": "markdown",
      "metadata": {
        "id": "V5dVRqU1wy9Q"
      },
      "source": [
        "Then, if you'd like to specifically get the max value for a particular column, you pass in the name of the column using the bracket indexing operator"
      ]
    },
    {
      "cell_type": "code",
      "metadata": {
        "id": "6vzOZFynwy9Q",
        "colab": {
          "base_uri": "https://localhost:8080/"
        },
        "outputId": "93720537-97cc-4bd2-960c-65c54b587dd8"
      },
      "source": [
        "df['Wscore'].max()"
      ],
      "execution_count": null,
      "outputs": [
        {
          "output_type": "execute_result",
          "data": {
            "text/plain": [
              "186"
            ]
          },
          "metadata": {},
          "execution_count": 25
        }
      ]
    },
    {
      "cell_type": "markdown",
      "metadata": {
        "id": "KrqP3TCOwy9R"
      },
      "source": [
        "If you'd like to find the mean of the Losing teams' score. "
      ]
    },
    {
      "cell_type": "code",
      "metadata": {
        "id": "bmF_1qOywy9R",
        "colab": {
          "base_uri": "https://localhost:8080/"
        },
        "outputId": "d5e9b150-8b2d-4fd2-f0d2-2969318db00a"
      },
      "source": [
        "df['Lscore'].mean()"
      ],
      "execution_count": null,
      "outputs": [
        {
          "output_type": "execute_result",
          "data": {
            "text/plain": [
              "64.49700940883343"
            ]
          },
          "metadata": {},
          "execution_count": 26
        }
      ]
    },
    {
      "cell_type": "markdown",
      "metadata": {
        "id": "tuV0vgF0wy9R"
      },
      "source": [
        "But what if that's not enough? Let's say we want to actually see the game(row) where this max score happened. We can call the **argmax()** function to identify the row index"
      ]
    },
    {
      "cell_type": "code",
      "metadata": {
        "id": "0tOTtD41wy9R",
        "colab": {
          "base_uri": "https://localhost:8080/"
        },
        "outputId": "7f6616c2-1041-4bb0-b98a-b22637ebddd2"
      },
      "source": [
        "df['Wscore'].argmax()"
      ],
      "execution_count": null,
      "outputs": [
        {
          "output_type": "execute_result",
          "data": {
            "text/plain": [
              "24970"
            ]
          },
          "metadata": {},
          "execution_count": 27
        }
      ]
    },
    {
      "cell_type": "markdown",
      "metadata": {
        "id": "xv77zhSQwy9S"
      },
      "source": [
        "One of the most useful functions that you can call on certain columns in a dataframe is the **value_counts()** function. It shows how many times each item appears in the column. This particular command shows the number of games in each season"
      ]
    },
    {
      "cell_type": "code",
      "metadata": {
        "id": "TzTfvUztwy9S",
        "colab": {
          "base_uri": "https://localhost:8080/"
        },
        "outputId": "c459b5a1-b684-4951-fbd4-dbd84f83b11b"
      },
      "source": [
        "df['Season'].value_counts()"
      ],
      "execution_count": null,
      "outputs": [
        {
          "output_type": "execute_result",
          "data": {
            "text/plain": [
              "2016    5369\n",
              "2014    5362\n",
              "2015    5354\n",
              "2013    5320\n",
              "2010    5263\n",
              "2012    5253\n",
              "2009    5249\n",
              "2011    5246\n",
              "2008    5163\n",
              "2007    5043\n",
              "2006    4757\n",
              "2005    4675\n",
              "2003    4616\n",
              "2004    4571\n",
              "2002    4555\n",
              "2000    4519\n",
              "2001    4467\n",
              "1999    4222\n",
              "1998    4167\n",
              "1997    4155\n",
              "1992    4127\n",
              "1991    4123\n",
              "1996    4122\n",
              "1995    4077\n",
              "1994    4060\n",
              "1990    4045\n",
              "1989    4037\n",
              "1993    3982\n",
              "1988    3955\n",
              "1987    3915\n",
              "1986    3783\n",
              "1985    3737\n",
              "Name: Season, dtype: int64"
            ]
          },
          "metadata": {},
          "execution_count": 28
        }
      ]
    },
    {
      "cell_type": "markdown",
      "metadata": {
        "id": "BZV4Z57Mwy9S"
      },
      "source": [
        "# Acessing Values"
      ]
    },
    {
      "cell_type": "markdown",
      "metadata": {
        "id": "X1AywDqJwy9S"
      },
      "source": [
        "Then, in order to get attributes about the game, we need to use the **iloc[]** function. Iloc is definitely one of the more important functions. The main idea is that you want to use it whenever you have the integer index of a certain row that you want to access. As per Pandas documentation, iloc is an \"integer-location based indexing for selection by position.\""
      ]
    },
    {
      "cell_type": "code",
      "metadata": {
        "id": "286dGrSAwy9T",
        "colab": {
          "base_uri": "https://localhost:8080/"
        },
        "outputId": "a0b65849-6822-470d-8524-d9817c274ec4"
      },
      "source": [
        "df.iloc[[df['Wscore'].argmax()]]['Season']"
      ],
      "execution_count": null,
      "outputs": [
        {
          "output_type": "execute_result",
          "data": {
            "text/plain": [
              "24970    1991\n",
              "Name: Season, dtype: int64"
            ]
          },
          "metadata": {},
          "execution_count": 20
        }
      ]
    },
    {
      "cell_type": "markdown",
      "metadata": {
        "id": "vguvPTlWwy9T"
      },
      "source": [
        "Let's take this a step further. Let's say you want to know the game with the highest scoring winning team (this is what we just calculated), but you then want to know how many points the losing team scored. "
      ]
    },
    {
      "cell_type": "code",
      "metadata": {
        "id": "FaUpGdSgwy9T",
        "colab": {
          "base_uri": "https://localhost:8080/"
        },
        "outputId": "39681cca-698e-4eb0-adcd-7664a772289b"
      },
      "source": [
        "df.iloc[[df['Wscore'].argmax()]]['Lscore']"
      ],
      "execution_count": null,
      "outputs": [
        {
          "output_type": "execute_result",
          "data": {
            "text/plain": [
              "24970    140\n",
              "Name: Lscore, dtype: int64"
            ]
          },
          "metadata": {},
          "execution_count": 21
        }
      ]
    },
    {
      "cell_type": "markdown",
      "metadata": {
        "id": "NyFouO1mwy9T"
      },
      "source": [
        "When you see data displayed in the above format, you're dealing with a Pandas **Series** object, not a dataframe object."
      ]
    },
    {
      "cell_type": "code",
      "metadata": {
        "id": "7FdzLD-jwy9T",
        "colab": {
          "base_uri": "https://localhost:8080/"
        },
        "outputId": "2d250dfb-282a-4c52-9a37-50e7b2ba2c16"
      },
      "source": [
        "type(df.iloc[[df['Wscore'].argmax()]]['Lscore'])"
      ],
      "execution_count": null,
      "outputs": [
        {
          "output_type": "execute_result",
          "data": {
            "text/plain": [
              "pandas.core.series.Series"
            ]
          },
          "metadata": {},
          "execution_count": 22
        }
      ]
    },
    {
      "cell_type": "code",
      "metadata": {
        "id": "q1Wq6Zcpwy9T",
        "colab": {
          "base_uri": "https://localhost:8080/"
        },
        "outputId": "be1e8f20-859a-48e9-ada6-bfffe5387a94"
      },
      "source": [
        "type(df.iloc[[df['Wscore'].argmax()]])"
      ],
      "execution_count": null,
      "outputs": [
        {
          "output_type": "execute_result",
          "data": {
            "text/plain": [
              "pandas.core.frame.DataFrame"
            ]
          },
          "metadata": {},
          "execution_count": 23
        }
      ]
    },
    {
      "cell_type": "markdown",
      "metadata": {
        "id": "IEHPsMdpwy9U"
      },
      "source": [
        "The following is a summary of the 3 data structures in Pandas (Haven't ever really used Panels yet)\n",
        "\n",
        "![](DataStructures.png)"
      ]
    },
    {
      "cell_type": "markdown",
      "metadata": {
        "id": "sLCdj1YSwy9U"
      },
      "source": [
        "When you want to access values in a Series, you'll want to just treat the Series like a Python dictionary, so you'd access the value according to its key (which is normally an integer index)"
      ]
    },
    {
      "cell_type": "code",
      "metadata": {
        "id": "zGJCT3L0wy9U",
        "colab": {
          "base_uri": "https://localhost:8080/"
        },
        "outputId": "98cd4e5a-4f6d-4125-c895-13bcf16231f9"
      },
      "source": [
        "df.iloc[[df['Wscore'].argmax()]]['Lscore'][24970]"
      ],
      "execution_count": null,
      "outputs": [
        {
          "output_type": "execute_result",
          "data": {
            "text/plain": [
              "140"
            ]
          },
          "metadata": {},
          "execution_count": 33
        }
      ]
    },
    {
      "cell_type": "markdown",
      "metadata": {
        "id": "h9jGWLSOwy9U"
      },
      "source": [
        "The other really important function in Pandas is the **loc** function. Contrary to iloc, which is an integer based indexing, loc is a \"Purely label-location based indexer for selection by label\". Since all the games are ordered from 0 to 145288, iloc and loc are going to be pretty interchangable in this type of dataset"
      ]
    },
    {
      "cell_type": "code",
      "metadata": {
        "id": "rBA6KAncwy9U",
        "colab": {
          "base_uri": "https://localhost:8080/",
          "height": 419
        },
        "outputId": "2faac9e2-ffcb-4507-b157-bac605bca3dd"
      },
      "source": [
        "df.iloc[:,:3]"
      ],
      "execution_count": null,
      "outputs": [
        {
          "output_type": "execute_result",
          "data": {
            "text/html": [
              "<div>\n",
              "<style scoped>\n",
              "    .dataframe tbody tr th:only-of-type {\n",
              "        vertical-align: middle;\n",
              "    }\n",
              "\n",
              "    .dataframe tbody tr th {\n",
              "        vertical-align: top;\n",
              "    }\n",
              "\n",
              "    .dataframe thead th {\n",
              "        text-align: right;\n",
              "    }\n",
              "</style>\n",
              "<table border=\"1\" class=\"dataframe\">\n",
              "  <thead>\n",
              "    <tr style=\"text-align: right;\">\n",
              "      <th></th>\n",
              "      <th>Season</th>\n",
              "      <th>Daynum</th>\n",
              "      <th>Wteam</th>\n",
              "    </tr>\n",
              "  </thead>\n",
              "  <tbody>\n",
              "    <tr>\n",
              "      <th>0</th>\n",
              "      <td>1985</td>\n",
              "      <td>20</td>\n",
              "      <td>1228</td>\n",
              "    </tr>\n",
              "    <tr>\n",
              "      <th>1</th>\n",
              "      <td>1985</td>\n",
              "      <td>25</td>\n",
              "      <td>1106</td>\n",
              "    </tr>\n",
              "    <tr>\n",
              "      <th>2</th>\n",
              "      <td>1985</td>\n",
              "      <td>25</td>\n",
              "      <td>1112</td>\n",
              "    </tr>\n",
              "    <tr>\n",
              "      <th>3</th>\n",
              "      <td>1985</td>\n",
              "      <td>25</td>\n",
              "      <td>1165</td>\n",
              "    </tr>\n",
              "    <tr>\n",
              "      <th>4</th>\n",
              "      <td>1985</td>\n",
              "      <td>25</td>\n",
              "      <td>1192</td>\n",
              "    </tr>\n",
              "    <tr>\n",
              "      <th>...</th>\n",
              "      <td>...</td>\n",
              "      <td>...</td>\n",
              "      <td>...</td>\n",
              "    </tr>\n",
              "    <tr>\n",
              "      <th>145284</th>\n",
              "      <td>2016</td>\n",
              "      <td>132</td>\n",
              "      <td>1114</td>\n",
              "    </tr>\n",
              "    <tr>\n",
              "      <th>145285</th>\n",
              "      <td>2016</td>\n",
              "      <td>132</td>\n",
              "      <td>1163</td>\n",
              "    </tr>\n",
              "    <tr>\n",
              "      <th>145286</th>\n",
              "      <td>2016</td>\n",
              "      <td>132</td>\n",
              "      <td>1246</td>\n",
              "    </tr>\n",
              "    <tr>\n",
              "      <th>145287</th>\n",
              "      <td>2016</td>\n",
              "      <td>132</td>\n",
              "      <td>1277</td>\n",
              "    </tr>\n",
              "    <tr>\n",
              "      <th>145288</th>\n",
              "      <td>2016</td>\n",
              "      <td>132</td>\n",
              "      <td>1386</td>\n",
              "    </tr>\n",
              "  </tbody>\n",
              "</table>\n",
              "<p>145289 rows × 3 columns</p>\n",
              "</div>"
            ],
            "text/plain": [
              "        Season  Daynum  Wteam\n",
              "0         1985      20   1228\n",
              "1         1985      25   1106\n",
              "2         1985      25   1112\n",
              "3         1985      25   1165\n",
              "4         1985      25   1192\n",
              "...        ...     ...    ...\n",
              "145284    2016     132   1114\n",
              "145285    2016     132   1163\n",
              "145286    2016     132   1246\n",
              "145287    2016     132   1277\n",
              "145288    2016     132   1386\n",
              "\n",
              "[145289 rows x 3 columns]"
            ]
          },
          "metadata": {},
          "execution_count": 30
        }
      ]
    },
    {
      "cell_type": "code",
      "metadata": {
        "id": "EfRJBJnMwy9U",
        "colab": {
          "base_uri": "https://localhost:8080/",
          "height": 173
        },
        "outputId": "9f7f18b9-ca33-4139-b5ab-ab373bf890ad"
      },
      "source": [
        "df.loc[:3]"
      ],
      "execution_count": null,
      "outputs": [
        {
          "output_type": "execute_result",
          "data": {
            "text/html": [
              "<div>\n",
              "<style scoped>\n",
              "    .dataframe tbody tr th:only-of-type {\n",
              "        vertical-align: middle;\n",
              "    }\n",
              "\n",
              "    .dataframe tbody tr th {\n",
              "        vertical-align: top;\n",
              "    }\n",
              "\n",
              "    .dataframe thead th {\n",
              "        text-align: right;\n",
              "    }\n",
              "</style>\n",
              "<table border=\"1\" class=\"dataframe\">\n",
              "  <thead>\n",
              "    <tr style=\"text-align: right;\">\n",
              "      <th></th>\n",
              "      <th>Season</th>\n",
              "      <th>Daynum</th>\n",
              "      <th>Wteam</th>\n",
              "      <th>Wscore</th>\n",
              "      <th>Lteam</th>\n",
              "      <th>Lscore</th>\n",
              "      <th>Wloc</th>\n",
              "      <th>Numot</th>\n",
              "    </tr>\n",
              "  </thead>\n",
              "  <tbody>\n",
              "    <tr>\n",
              "      <th>0</th>\n",
              "      <td>1985</td>\n",
              "      <td>20</td>\n",
              "      <td>1228</td>\n",
              "      <td>81</td>\n",
              "      <td>1328</td>\n",
              "      <td>64</td>\n",
              "      <td>N</td>\n",
              "      <td>0</td>\n",
              "    </tr>\n",
              "    <tr>\n",
              "      <th>1</th>\n",
              "      <td>1985</td>\n",
              "      <td>25</td>\n",
              "      <td>1106</td>\n",
              "      <td>77</td>\n",
              "      <td>1354</td>\n",
              "      <td>70</td>\n",
              "      <td>H</td>\n",
              "      <td>0</td>\n",
              "    </tr>\n",
              "    <tr>\n",
              "      <th>2</th>\n",
              "      <td>1985</td>\n",
              "      <td>25</td>\n",
              "      <td>1112</td>\n",
              "      <td>63</td>\n",
              "      <td>1223</td>\n",
              "      <td>56</td>\n",
              "      <td>H</td>\n",
              "      <td>0</td>\n",
              "    </tr>\n",
              "    <tr>\n",
              "      <th>3</th>\n",
              "      <td>1985</td>\n",
              "      <td>25</td>\n",
              "      <td>1165</td>\n",
              "      <td>70</td>\n",
              "      <td>1432</td>\n",
              "      <td>54</td>\n",
              "      <td>H</td>\n",
              "      <td>0</td>\n",
              "    </tr>\n",
              "  </tbody>\n",
              "</table>\n",
              "</div>"
            ],
            "text/plain": [
              "   Season  Daynum  Wteam  Wscore  Lteam  Lscore Wloc  Numot\n",
              "0    1985      20   1228      81   1328      64    N      0\n",
              "1    1985      25   1106      77   1354      70    H      0\n",
              "2    1985      25   1112      63   1223      56    H      0\n",
              "3    1985      25   1165      70   1432      54    H      0"
            ]
          },
          "metadata": {},
          "execution_count": 35
        }
      ]
    },
    {
      "cell_type": "markdown",
      "metadata": {
        "id": "xh1EyQr6wy9V"
      },
      "source": [
        "Notice the slight difference in that iloc is exclusive of the second number, while loc is inclusive. "
      ]
    },
    {
      "cell_type": "markdown",
      "metadata": {
        "id": "9xLSGzdAwy9V"
      },
      "source": [
        "Below is an example of how you can use loc to acheive the same task as we did previously with iloc"
      ]
    },
    {
      "cell_type": "code",
      "metadata": {
        "id": "c-9xz3eFwy9V",
        "colab": {
          "base_uri": "https://localhost:8080/"
        },
        "outputId": "b0f5aca3-4652-441c-9780-ea199e621d0a"
      },
      "source": [
        "df.loc[df['Wscore'].argmax(), 'Lscore']"
      ],
      "execution_count": null,
      "outputs": [
        {
          "output_type": "execute_result",
          "data": {
            "text/plain": [
              "140"
            ]
          },
          "metadata": {},
          "execution_count": 36
        }
      ]
    },
    {
      "cell_type": "markdown",
      "metadata": {
        "id": "HriYL2zJwy9V"
      },
      "source": [
        "A faster version uses the **at()** function. At() is really useful wheneever you know the row label and the column label of the particular value that you want to get. "
      ]
    },
    {
      "cell_type": "code",
      "metadata": {
        "id": "Jd-M3icXwy9V",
        "colab": {
          "base_uri": "https://localhost:8080/"
        },
        "outputId": "371df967-93bd-4ac3-cc99-815be84855dd"
      },
      "source": [
        "df.at[df['Wscore'].argmax(), 'Lscore']"
      ],
      "execution_count": null,
      "outputs": [
        {
          "output_type": "execute_result",
          "data": {
            "text/plain": [
              "140"
            ]
          },
          "metadata": {},
          "execution_count": 37
        }
      ]
    },
    {
      "cell_type": "markdown",
      "metadata": {
        "id": "vHUd0rhMwy9V"
      },
      "source": [
        "If you'd like to see more discussion on how loc and iloc are different, check out this great Stack Overflow post: http://stackoverflow.com/questions/31593201/pandas-iloc-vs-ix-vs-loc-explanation. Just remember that **iloc looks at position** and **loc looks at labels**. Loc becomes very important when your row labels aren't integers. "
      ]
    },
    {
      "cell_type": "markdown",
      "metadata": {
        "id": "35B9LoKjwy9W"
      },
      "source": [
        "# Sorting"
      ]
    },
    {
      "cell_type": "markdown",
      "metadata": {
        "id": "XnKvZhr_wy9W"
      },
      "source": [
        "Let's say that we want to sort the dataframe in increasing order for the scores of the losing team"
      ]
    },
    {
      "cell_type": "code",
      "metadata": {
        "scrolled": true,
        "id": "wBwuIIHJwy9W",
        "colab": {
          "base_uri": "https://localhost:8080/",
          "height": 204
        },
        "outputId": "3cea45ff-2af4-49dc-b1f7-2144b7e4e15b"
      },
      "source": [
        "df.sort_values('Lscore').head()"
      ],
      "execution_count": null,
      "outputs": [
        {
          "output_type": "execute_result",
          "data": {
            "text/html": [
              "<div>\n",
              "<style scoped>\n",
              "    .dataframe tbody tr th:only-of-type {\n",
              "        vertical-align: middle;\n",
              "    }\n",
              "\n",
              "    .dataframe tbody tr th {\n",
              "        vertical-align: top;\n",
              "    }\n",
              "\n",
              "    .dataframe thead th {\n",
              "        text-align: right;\n",
              "    }\n",
              "</style>\n",
              "<table border=\"1\" class=\"dataframe\">\n",
              "  <thead>\n",
              "    <tr style=\"text-align: right;\">\n",
              "      <th></th>\n",
              "      <th>Season</th>\n",
              "      <th>Daynum</th>\n",
              "      <th>Wteam</th>\n",
              "      <th>Wscore</th>\n",
              "      <th>Lteam</th>\n",
              "      <th>Lscore</th>\n",
              "      <th>Wloc</th>\n",
              "      <th>Numot</th>\n",
              "    </tr>\n",
              "  </thead>\n",
              "  <tbody>\n",
              "    <tr>\n",
              "      <th>100027</th>\n",
              "      <td>2008</td>\n",
              "      <td>66</td>\n",
              "      <td>1203</td>\n",
              "      <td>49</td>\n",
              "      <td>1387</td>\n",
              "      <td>20</td>\n",
              "      <td>H</td>\n",
              "      <td>0</td>\n",
              "    </tr>\n",
              "    <tr>\n",
              "      <th>49310</th>\n",
              "      <td>1997</td>\n",
              "      <td>66</td>\n",
              "      <td>1157</td>\n",
              "      <td>61</td>\n",
              "      <td>1204</td>\n",
              "      <td>21</td>\n",
              "      <td>H</td>\n",
              "      <td>0</td>\n",
              "    </tr>\n",
              "    <tr>\n",
              "      <th>89021</th>\n",
              "      <td>2006</td>\n",
              "      <td>44</td>\n",
              "      <td>1284</td>\n",
              "      <td>41</td>\n",
              "      <td>1343</td>\n",
              "      <td>21</td>\n",
              "      <td>A</td>\n",
              "      <td>0</td>\n",
              "    </tr>\n",
              "    <tr>\n",
              "      <th>85042</th>\n",
              "      <td>2005</td>\n",
              "      <td>66</td>\n",
              "      <td>1131</td>\n",
              "      <td>73</td>\n",
              "      <td>1216</td>\n",
              "      <td>22</td>\n",
              "      <td>H</td>\n",
              "      <td>0</td>\n",
              "    </tr>\n",
              "    <tr>\n",
              "      <th>103660</th>\n",
              "      <td>2009</td>\n",
              "      <td>26</td>\n",
              "      <td>1326</td>\n",
              "      <td>59</td>\n",
              "      <td>1359</td>\n",
              "      <td>22</td>\n",
              "      <td>H</td>\n",
              "      <td>0</td>\n",
              "    </tr>\n",
              "  </tbody>\n",
              "</table>\n",
              "</div>"
            ],
            "text/plain": [
              "        Season  Daynum  Wteam  Wscore  Lteam  Lscore Wloc  Numot\n",
              "100027    2008      66   1203      49   1387      20    H      0\n",
              "49310     1997      66   1157      61   1204      21    H      0\n",
              "89021     2006      44   1284      41   1343      21    A      0\n",
              "85042     2005      66   1131      73   1216      22    H      0\n",
              "103660    2009      26   1326      59   1359      22    H      0"
            ]
          },
          "metadata": {},
          "execution_count": 38
        }
      ]
    },
    {
      "cell_type": "code",
      "metadata": {
        "id": "_YmJxRI8wy9W",
        "colab": {
          "base_uri": "https://localhost:8080/"
        },
        "outputId": "48b196f2-20b8-4a59-b42f-a04cf44860b3"
      },
      "source": [
        "df.groupby('Lscore')"
      ],
      "execution_count": null,
      "outputs": [
        {
          "output_type": "execute_result",
          "data": {
            "text/plain": [
              "<pandas.core.groupby.generic.DataFrameGroupBy object at 0x7faa1549d490>"
            ]
          },
          "metadata": {},
          "execution_count": 39
        }
      ]
    },
    {
      "cell_type": "markdown",
      "metadata": {
        "id": "n_xUcfbfwy9W"
      },
      "source": [
        "# Filtering Rows Conditionally"
      ]
    },
    {
      "cell_type": "markdown",
      "metadata": {
        "id": "ImNF1wTGwy9W"
      },
      "source": [
        "Now, let's say we want to find all of the rows that satisy a particular condition. For example, I want to find all of the games where the winning team scored more than 150 points. The idea behind this command is you want to access the column 'Wscore' of the dataframe df (df['Wscore']), find which entries are above 150 (df['Wscore'] > 150), and then returns only those specific rows in a dataframe format (df[df['Wscore'] > 150])."
      ]
    },
    {
      "cell_type": "code",
      "metadata": {
        "id": "8SRoAZEPwy9X",
        "colab": {
          "base_uri": "https://localhost:8080/",
          "height": 607
        },
        "outputId": "d5a66b14-8cbb-49a4-b8d4-f8ade11a5fc6"
      },
      "source": [
        "df[df['Wscore'] > 150]"
      ],
      "execution_count": null,
      "outputs": [
        {
          "output_type": "execute_result",
          "data": {
            "text/html": [
              "<div>\n",
              "<style scoped>\n",
              "    .dataframe tbody tr th:only-of-type {\n",
              "        vertical-align: middle;\n",
              "    }\n",
              "\n",
              "    .dataframe tbody tr th {\n",
              "        vertical-align: top;\n",
              "    }\n",
              "\n",
              "    .dataframe thead th {\n",
              "        text-align: right;\n",
              "    }\n",
              "</style>\n",
              "<table border=\"1\" class=\"dataframe\">\n",
              "  <thead>\n",
              "    <tr style=\"text-align: right;\">\n",
              "      <th></th>\n",
              "      <th>Season</th>\n",
              "      <th>Daynum</th>\n",
              "      <th>Wteam</th>\n",
              "      <th>Wscore</th>\n",
              "      <th>Lteam</th>\n",
              "      <th>Lscore</th>\n",
              "      <th>Wloc</th>\n",
              "      <th>Numot</th>\n",
              "    </tr>\n",
              "  </thead>\n",
              "  <tbody>\n",
              "    <tr>\n",
              "      <th>5269</th>\n",
              "      <td>1986</td>\n",
              "      <td>75</td>\n",
              "      <td>1258</td>\n",
              "      <td>151</td>\n",
              "      <td>1109</td>\n",
              "      <td>107</td>\n",
              "      <td>H</td>\n",
              "      <td>0</td>\n",
              "    </tr>\n",
              "    <tr>\n",
              "      <th>12046</th>\n",
              "      <td>1988</td>\n",
              "      <td>40</td>\n",
              "      <td>1328</td>\n",
              "      <td>152</td>\n",
              "      <td>1147</td>\n",
              "      <td>84</td>\n",
              "      <td>H</td>\n",
              "      <td>0</td>\n",
              "    </tr>\n",
              "    <tr>\n",
              "      <th>12355</th>\n",
              "      <td>1988</td>\n",
              "      <td>52</td>\n",
              "      <td>1328</td>\n",
              "      <td>151</td>\n",
              "      <td>1173</td>\n",
              "      <td>99</td>\n",
              "      <td>N</td>\n",
              "      <td>0</td>\n",
              "    </tr>\n",
              "    <tr>\n",
              "      <th>16040</th>\n",
              "      <td>1989</td>\n",
              "      <td>40</td>\n",
              "      <td>1328</td>\n",
              "      <td>152</td>\n",
              "      <td>1331</td>\n",
              "      <td>122</td>\n",
              "      <td>H</td>\n",
              "      <td>0</td>\n",
              "    </tr>\n",
              "    <tr>\n",
              "      <th>16853</th>\n",
              "      <td>1989</td>\n",
              "      <td>68</td>\n",
              "      <td>1258</td>\n",
              "      <td>162</td>\n",
              "      <td>1109</td>\n",
              "      <td>144</td>\n",
              "      <td>A</td>\n",
              "      <td>0</td>\n",
              "    </tr>\n",
              "    <tr>\n",
              "      <th>17867</th>\n",
              "      <td>1989</td>\n",
              "      <td>92</td>\n",
              "      <td>1258</td>\n",
              "      <td>181</td>\n",
              "      <td>1109</td>\n",
              "      <td>150</td>\n",
              "      <td>H</td>\n",
              "      <td>0</td>\n",
              "    </tr>\n",
              "    <tr>\n",
              "      <th>19653</th>\n",
              "      <td>1990</td>\n",
              "      <td>30</td>\n",
              "      <td>1328</td>\n",
              "      <td>173</td>\n",
              "      <td>1109</td>\n",
              "      <td>101</td>\n",
              "      <td>H</td>\n",
              "      <td>0</td>\n",
              "    </tr>\n",
              "    <tr>\n",
              "      <th>19971</th>\n",
              "      <td>1990</td>\n",
              "      <td>38</td>\n",
              "      <td>1258</td>\n",
              "      <td>152</td>\n",
              "      <td>1109</td>\n",
              "      <td>137</td>\n",
              "      <td>A</td>\n",
              "      <td>0</td>\n",
              "    </tr>\n",
              "    <tr>\n",
              "      <th>20022</th>\n",
              "      <td>1990</td>\n",
              "      <td>40</td>\n",
              "      <td>1116</td>\n",
              "      <td>166</td>\n",
              "      <td>1109</td>\n",
              "      <td>101</td>\n",
              "      <td>H</td>\n",
              "      <td>0</td>\n",
              "    </tr>\n",
              "    <tr>\n",
              "      <th>22145</th>\n",
              "      <td>1990</td>\n",
              "      <td>97</td>\n",
              "      <td>1258</td>\n",
              "      <td>157</td>\n",
              "      <td>1362</td>\n",
              "      <td>115</td>\n",
              "      <td>H</td>\n",
              "      <td>0</td>\n",
              "    </tr>\n",
              "    <tr>\n",
              "      <th>23582</th>\n",
              "      <td>1991</td>\n",
              "      <td>26</td>\n",
              "      <td>1318</td>\n",
              "      <td>152</td>\n",
              "      <td>1258</td>\n",
              "      <td>123</td>\n",
              "      <td>N</td>\n",
              "      <td>0</td>\n",
              "    </tr>\n",
              "    <tr>\n",
              "      <th>24341</th>\n",
              "      <td>1991</td>\n",
              "      <td>47</td>\n",
              "      <td>1328</td>\n",
              "      <td>172</td>\n",
              "      <td>1258</td>\n",
              "      <td>112</td>\n",
              "      <td>H</td>\n",
              "      <td>0</td>\n",
              "    </tr>\n",
              "    <tr>\n",
              "      <th>24970</th>\n",
              "      <td>1991</td>\n",
              "      <td>68</td>\n",
              "      <td>1258</td>\n",
              "      <td>186</td>\n",
              "      <td>1109</td>\n",
              "      <td>140</td>\n",
              "      <td>H</td>\n",
              "      <td>0</td>\n",
              "    </tr>\n",
              "    <tr>\n",
              "      <th>25656</th>\n",
              "      <td>1991</td>\n",
              "      <td>84</td>\n",
              "      <td>1106</td>\n",
              "      <td>151</td>\n",
              "      <td>1212</td>\n",
              "      <td>97</td>\n",
              "      <td>H</td>\n",
              "      <td>0</td>\n",
              "    </tr>\n",
              "    <tr>\n",
              "      <th>28687</th>\n",
              "      <td>1992</td>\n",
              "      <td>54</td>\n",
              "      <td>1261</td>\n",
              "      <td>159</td>\n",
              "      <td>1319</td>\n",
              "      <td>86</td>\n",
              "      <td>H</td>\n",
              "      <td>0</td>\n",
              "    </tr>\n",
              "    <tr>\n",
              "      <th>35023</th>\n",
              "      <td>1993</td>\n",
              "      <td>112</td>\n",
              "      <td>1380</td>\n",
              "      <td>155</td>\n",
              "      <td>1341</td>\n",
              "      <td>91</td>\n",
              "      <td>A</td>\n",
              "      <td>0</td>\n",
              "    </tr>\n",
              "    <tr>\n",
              "      <th>40060</th>\n",
              "      <td>1995</td>\n",
              "      <td>32</td>\n",
              "      <td>1375</td>\n",
              "      <td>156</td>\n",
              "      <td>1341</td>\n",
              "      <td>114</td>\n",
              "      <td>H</td>\n",
              "      <td>0</td>\n",
              "    </tr>\n",
              "    <tr>\n",
              "      <th>52600</th>\n",
              "      <td>1998</td>\n",
              "      <td>33</td>\n",
              "      <td>1395</td>\n",
              "      <td>153</td>\n",
              "      <td>1410</td>\n",
              "      <td>87</td>\n",
              "      <td>H</td>\n",
              "      <td>0</td>\n",
              "    </tr>\n",
              "  </tbody>\n",
              "</table>\n",
              "</div>"
            ],
            "text/plain": [
              "       Season  Daynum  Wteam  Wscore  Lteam  Lscore Wloc  Numot\n",
              "5269     1986      75   1258     151   1109     107    H      0\n",
              "12046    1988      40   1328     152   1147      84    H      0\n",
              "12355    1988      52   1328     151   1173      99    N      0\n",
              "16040    1989      40   1328     152   1331     122    H      0\n",
              "16853    1989      68   1258     162   1109     144    A      0\n",
              "17867    1989      92   1258     181   1109     150    H      0\n",
              "19653    1990      30   1328     173   1109     101    H      0\n",
              "19971    1990      38   1258     152   1109     137    A      0\n",
              "20022    1990      40   1116     166   1109     101    H      0\n",
              "22145    1990      97   1258     157   1362     115    H      0\n",
              "23582    1991      26   1318     152   1258     123    N      0\n",
              "24341    1991      47   1328     172   1258     112    H      0\n",
              "24970    1991      68   1258     186   1109     140    H      0\n",
              "25656    1991      84   1106     151   1212      97    H      0\n",
              "28687    1992      54   1261     159   1319      86    H      0\n",
              "35023    1993     112   1380     155   1341      91    A      0\n",
              "40060    1995      32   1375     156   1341     114    H      0\n",
              "52600    1998      33   1395     153   1410      87    H      0"
            ]
          },
          "metadata": {},
          "execution_count": 40
        }
      ]
    },
    {
      "cell_type": "markdown",
      "metadata": {
        "id": "lPRNPqZPwy9X"
      },
      "source": [
        "This also works if you have multiple conditions. Let's say we want to find out when the winning team scores more than 150 points and when the losing team scores below 100. "
      ]
    },
    {
      "cell_type": "code",
      "metadata": {
        "id": "v6XW7G7Swy9X",
        "colab": {
          "base_uri": "https://localhost:8080/",
          "height": 235
        },
        "outputId": "eb203692-2f7f-434c-a8c9-db3af30b18c7"
      },
      "source": [
        "df[(df['Wscore'] > 150) & (df['Lscore'] < 100)]"
      ],
      "execution_count": null,
      "outputs": [
        {
          "output_type": "execute_result",
          "data": {
            "text/html": [
              "<div>\n",
              "<style scoped>\n",
              "    .dataframe tbody tr th:only-of-type {\n",
              "        vertical-align: middle;\n",
              "    }\n",
              "\n",
              "    .dataframe tbody tr th {\n",
              "        vertical-align: top;\n",
              "    }\n",
              "\n",
              "    .dataframe thead th {\n",
              "        text-align: right;\n",
              "    }\n",
              "</style>\n",
              "<table border=\"1\" class=\"dataframe\">\n",
              "  <thead>\n",
              "    <tr style=\"text-align: right;\">\n",
              "      <th></th>\n",
              "      <th>Season</th>\n",
              "      <th>Daynum</th>\n",
              "      <th>Wteam</th>\n",
              "      <th>Wscore</th>\n",
              "      <th>Lteam</th>\n",
              "      <th>Lscore</th>\n",
              "      <th>Wloc</th>\n",
              "      <th>Numot</th>\n",
              "    </tr>\n",
              "  </thead>\n",
              "  <tbody>\n",
              "    <tr>\n",
              "      <th>12046</th>\n",
              "      <td>1988</td>\n",
              "      <td>40</td>\n",
              "      <td>1328</td>\n",
              "      <td>152</td>\n",
              "      <td>1147</td>\n",
              "      <td>84</td>\n",
              "      <td>H</td>\n",
              "      <td>0</td>\n",
              "    </tr>\n",
              "    <tr>\n",
              "      <th>12355</th>\n",
              "      <td>1988</td>\n",
              "      <td>52</td>\n",
              "      <td>1328</td>\n",
              "      <td>151</td>\n",
              "      <td>1173</td>\n",
              "      <td>99</td>\n",
              "      <td>N</td>\n",
              "      <td>0</td>\n",
              "    </tr>\n",
              "    <tr>\n",
              "      <th>25656</th>\n",
              "      <td>1991</td>\n",
              "      <td>84</td>\n",
              "      <td>1106</td>\n",
              "      <td>151</td>\n",
              "      <td>1212</td>\n",
              "      <td>97</td>\n",
              "      <td>H</td>\n",
              "      <td>0</td>\n",
              "    </tr>\n",
              "    <tr>\n",
              "      <th>28687</th>\n",
              "      <td>1992</td>\n",
              "      <td>54</td>\n",
              "      <td>1261</td>\n",
              "      <td>159</td>\n",
              "      <td>1319</td>\n",
              "      <td>86</td>\n",
              "      <td>H</td>\n",
              "      <td>0</td>\n",
              "    </tr>\n",
              "    <tr>\n",
              "      <th>35023</th>\n",
              "      <td>1993</td>\n",
              "      <td>112</td>\n",
              "      <td>1380</td>\n",
              "      <td>155</td>\n",
              "      <td>1341</td>\n",
              "      <td>91</td>\n",
              "      <td>A</td>\n",
              "      <td>0</td>\n",
              "    </tr>\n",
              "    <tr>\n",
              "      <th>52600</th>\n",
              "      <td>1998</td>\n",
              "      <td>33</td>\n",
              "      <td>1395</td>\n",
              "      <td>153</td>\n",
              "      <td>1410</td>\n",
              "      <td>87</td>\n",
              "      <td>H</td>\n",
              "      <td>0</td>\n",
              "    </tr>\n",
              "  </tbody>\n",
              "</table>\n",
              "</div>"
            ],
            "text/plain": [
              "       Season  Daynum  Wteam  Wscore  Lteam  Lscore Wloc  Numot\n",
              "12046    1988      40   1328     152   1147      84    H      0\n",
              "12355    1988      52   1328     151   1173      99    N      0\n",
              "25656    1991      84   1106     151   1212      97    H      0\n",
              "28687    1992      54   1261     159   1319      86    H      0\n",
              "35023    1993     112   1380     155   1341      91    A      0\n",
              "52600    1998      33   1395     153   1410      87    H      0"
            ]
          },
          "metadata": {},
          "execution_count": 41
        }
      ]
    },
    {
      "cell_type": "markdown",
      "metadata": {
        "id": "cxhwNGUywy9X"
      },
      "source": [
        "# Grouping"
      ]
    },
    {
      "cell_type": "markdown",
      "metadata": {
        "id": "dfvaPyyUwy9X"
      },
      "source": [
        "Another important function in Pandas is **groupby()**. This is a function that allows you to group entries by certain attributes (e.g Grouping entries by Wteam number) and then perform operations on them. The following function groups all the entries (games) with the same Wteam number and finds the mean for each group. "
      ]
    },
    {
      "cell_type": "code",
      "metadata": {
        "id": "7xPk2kUxwy9X",
        "colab": {
          "base_uri": "https://localhost:8080/"
        },
        "outputId": "45ed536d-7a65-4b70-f028-29582aaee9bc"
      },
      "source": [
        "df.groupby('Wteam')['Wscore'].mean().head()"
      ],
      "execution_count": null,
      "outputs": [
        {
          "output_type": "execute_result",
          "data": {
            "text/plain": [
              "Wteam\n",
              "1101    78.111111\n",
              "1102    69.893204\n",
              "1103    75.839768\n",
              "1104    75.825944\n",
              "1105    74.960894\n",
              "Name: Wscore, dtype: float64"
            ]
          },
          "metadata": {},
          "execution_count": 42
        }
      ]
    },
    {
      "cell_type": "markdown",
      "metadata": {
        "id": "17Wl5EROwy9Y"
      },
      "source": [
        "This next command groups all the games with the same Wteam number and finds where how many times that specific team won at home, on the road, or at a neutral site"
      ]
    },
    {
      "cell_type": "code",
      "metadata": {
        "scrolled": false,
        "id": "pbSAn6NBwy9Y",
        "colab": {
          "base_uri": "https://localhost:8080/"
        },
        "outputId": "57b4d1af-446e-4350-c111-a8f2ecb43e0c"
      },
      "source": [
        "df.groupby('Wteam')['Wloc'].value_counts().head(9)"
      ],
      "execution_count": null,
      "outputs": [
        {
          "output_type": "execute_result",
          "data": {
            "text/plain": [
              "Wteam  Wloc\n",
              "1101   H        12\n",
              "       A         3\n",
              "       N         3\n",
              "1102   H       204\n",
              "       A        73\n",
              "       N        32\n",
              "1103   H       324\n",
              "       A       153\n",
              "       N        41\n",
              "Name: Wloc, dtype: int64"
            ]
          },
          "metadata": {},
          "execution_count": 43
        }
      ]
    },
    {
      "cell_type": "markdown",
      "metadata": {
        "id": "AUkbCIwqwy9Y"
      },
      "source": [
        "Each dataframe has a **values** attribute which is useful because it basically displays your dataframe in a numpy array style format"
      ]
    },
    {
      "cell_type": "code",
      "metadata": {
        "id": "j-amBdznwy9Y",
        "colab": {
          "base_uri": "https://localhost:8080/"
        },
        "outputId": "f2f65d05-36c0-4b48-c74b-ac4d2c89f431"
      },
      "source": [
        "df.values"
      ],
      "execution_count": null,
      "outputs": [
        {
          "output_type": "execute_result",
          "data": {
            "text/plain": [
              "array([[1985, 20, 1228, ..., 64, 'N', 0],\n",
              "       [1985, 25, 1106, ..., 70, 'H', 0],\n",
              "       [1985, 25, 1112, ..., 56, 'H', 0],\n",
              "       ...,\n",
              "       [2016, 132, 1246, ..., 77, 'N', 1],\n",
              "       [2016, 132, 1277, ..., 62, 'N', 0],\n",
              "       [2016, 132, 1386, ..., 74, 'N', 0]], dtype=object)"
            ]
          },
          "metadata": {},
          "execution_count": 44
        }
      ]
    },
    {
      "cell_type": "markdown",
      "metadata": {
        "id": "zpFl5Tgawy9Y"
      },
      "source": [
        "Now, you can simply just access elements like you would in an array. "
      ]
    },
    {
      "cell_type": "code",
      "metadata": {
        "id": "IdC9bjwfwy9Y",
        "colab": {
          "base_uri": "https://localhost:8080/"
        },
        "outputId": "9f9a1d25-b194-4aaf-def7-17aaa5a968a5"
      },
      "source": [
        "df.values[0][0]"
      ],
      "execution_count": null,
      "outputs": [
        {
          "output_type": "execute_result",
          "data": {
            "text/plain": [
              "1985"
            ]
          },
          "metadata": {},
          "execution_count": 45
        }
      ]
    },
    {
      "cell_type": "markdown",
      "metadata": {
        "id": "uu03bFGAwy9Y"
      },
      "source": [
        "# Dataframe Iteration"
      ]
    },
    {
      "cell_type": "markdown",
      "metadata": {
        "id": "E4g6DZ4Fwy9Z"
      },
      "source": [
        "In order to iterate through dataframes, we can use the **iterrows()** function. Below is an example of what the first two rows look like. Each row in iterrows is a Series object"
      ]
    },
    {
      "cell_type": "code",
      "metadata": {
        "id": "ooaaRQ5Ewy9Z",
        "colab": {
          "base_uri": "https://localhost:8080/"
        },
        "outputId": "65a26f3e-1567-4af8-fac7-8807c3575492"
      },
      "source": [
        "for index, row in df.iterrows():\n",
        "    print(row)\n",
        "    if index == 1:\n",
        "        break"
      ],
      "execution_count": null,
      "outputs": [
        {
          "output_type": "stream",
          "name": "stdout",
          "text": [
            "Season    1985\n",
            "Daynum      20\n",
            "Wteam     1228\n",
            "Wscore      81\n",
            "Lteam     1328\n",
            "Lscore      64\n",
            "Wloc         N\n",
            "Numot        0\n",
            "Name: 0, dtype: object\n",
            "Season    1985\n",
            "Daynum      25\n",
            "Wteam     1106\n",
            "Wscore      77\n",
            "Lteam     1354\n",
            "Lscore      70\n",
            "Wloc         H\n",
            "Numot        0\n",
            "Name: 1, dtype: object\n"
          ]
        }
      ]
    },
    {
      "cell_type": "markdown",
      "metadata": {
        "id": "PEl5B8t3wy9Z"
      },
      "source": [
        "# Extracting Rows and Columns"
      ]
    },
    {
      "cell_type": "markdown",
      "metadata": {
        "id": "KDuU8LtKwy9Z"
      },
      "source": [
        "The bracket indexing operator is one way to extract certain columns from a dataframe."
      ]
    },
    {
      "cell_type": "code",
      "metadata": {
        "scrolled": true,
        "id": "2GAs07Rjwy9Z",
        "colab": {
          "base_uri": "https://localhost:8080/",
          "height": 204
        },
        "outputId": "e8eaa43c-0bcd-44d1-da66-93d564193326"
      },
      "source": [
        "df[['Wscore', 'Lscore']].head()"
      ],
      "execution_count": null,
      "outputs": [
        {
          "output_type": "execute_result",
          "data": {
            "text/html": [
              "<div>\n",
              "<style scoped>\n",
              "    .dataframe tbody tr th:only-of-type {\n",
              "        vertical-align: middle;\n",
              "    }\n",
              "\n",
              "    .dataframe tbody tr th {\n",
              "        vertical-align: top;\n",
              "    }\n",
              "\n",
              "    .dataframe thead th {\n",
              "        text-align: right;\n",
              "    }\n",
              "</style>\n",
              "<table border=\"1\" class=\"dataframe\">\n",
              "  <thead>\n",
              "    <tr style=\"text-align: right;\">\n",
              "      <th></th>\n",
              "      <th>Wscore</th>\n",
              "      <th>Lscore</th>\n",
              "    </tr>\n",
              "  </thead>\n",
              "  <tbody>\n",
              "    <tr>\n",
              "      <th>0</th>\n",
              "      <td>81</td>\n",
              "      <td>64</td>\n",
              "    </tr>\n",
              "    <tr>\n",
              "      <th>1</th>\n",
              "      <td>77</td>\n",
              "      <td>70</td>\n",
              "    </tr>\n",
              "    <tr>\n",
              "      <th>2</th>\n",
              "      <td>63</td>\n",
              "      <td>56</td>\n",
              "    </tr>\n",
              "    <tr>\n",
              "      <th>3</th>\n",
              "      <td>70</td>\n",
              "      <td>54</td>\n",
              "    </tr>\n",
              "    <tr>\n",
              "      <th>4</th>\n",
              "      <td>86</td>\n",
              "      <td>74</td>\n",
              "    </tr>\n",
              "  </tbody>\n",
              "</table>\n",
              "</div>"
            ],
            "text/plain": [
              "   Wscore  Lscore\n",
              "0      81      64\n",
              "1      77      70\n",
              "2      63      56\n",
              "3      70      54\n",
              "4      86      74"
            ]
          },
          "metadata": {},
          "execution_count": 48
        }
      ]
    },
    {
      "cell_type": "markdown",
      "metadata": {
        "id": "SBw1XBWVwy9Z"
      },
      "source": [
        "Notice that you can acheive the same result by using the loc function. Loc is a veryyyy versatile function that can help you in a lot of accessing and extracting tasks. "
      ]
    },
    {
      "cell_type": "code",
      "metadata": {
        "id": "4Q1tW1Lxwy9Z",
        "colab": {
          "base_uri": "https://localhost:8080/",
          "height": 204
        },
        "outputId": "0a6f9f73-601a-49d3-96cb-4fd0505fd102"
      },
      "source": [
        "df.loc[:, ['Wscore', 'Lscore']].head()"
      ],
      "execution_count": null,
      "outputs": [
        {
          "output_type": "execute_result",
          "data": {
            "text/html": [
              "<div>\n",
              "<style scoped>\n",
              "    .dataframe tbody tr th:only-of-type {\n",
              "        vertical-align: middle;\n",
              "    }\n",
              "\n",
              "    .dataframe tbody tr th {\n",
              "        vertical-align: top;\n",
              "    }\n",
              "\n",
              "    .dataframe thead th {\n",
              "        text-align: right;\n",
              "    }\n",
              "</style>\n",
              "<table border=\"1\" class=\"dataframe\">\n",
              "  <thead>\n",
              "    <tr style=\"text-align: right;\">\n",
              "      <th></th>\n",
              "      <th>Wscore</th>\n",
              "      <th>Lscore</th>\n",
              "    </tr>\n",
              "  </thead>\n",
              "  <tbody>\n",
              "    <tr>\n",
              "      <th>0</th>\n",
              "      <td>81</td>\n",
              "      <td>64</td>\n",
              "    </tr>\n",
              "    <tr>\n",
              "      <th>1</th>\n",
              "      <td>77</td>\n",
              "      <td>70</td>\n",
              "    </tr>\n",
              "    <tr>\n",
              "      <th>2</th>\n",
              "      <td>63</td>\n",
              "      <td>56</td>\n",
              "    </tr>\n",
              "    <tr>\n",
              "      <th>3</th>\n",
              "      <td>70</td>\n",
              "      <td>54</td>\n",
              "    </tr>\n",
              "    <tr>\n",
              "      <th>4</th>\n",
              "      <td>86</td>\n",
              "      <td>74</td>\n",
              "    </tr>\n",
              "  </tbody>\n",
              "</table>\n",
              "</div>"
            ],
            "text/plain": [
              "   Wscore  Lscore\n",
              "0      81      64\n",
              "1      77      70\n",
              "2      63      56\n",
              "3      70      54\n",
              "4      86      74"
            ]
          },
          "metadata": {},
          "execution_count": 49
        }
      ]
    },
    {
      "cell_type": "markdown",
      "metadata": {
        "id": "erwuvkemwy9Z"
      },
      "source": [
        "Note the difference is the return types when you use brackets and when you use double brackets. "
      ]
    },
    {
      "cell_type": "code",
      "metadata": {
        "id": "dr8asP_Vwy9Z",
        "colab": {
          "base_uri": "https://localhost:8080/"
        },
        "outputId": "d6ba3d44-8903-4485-cc89-7e3bd0831acc"
      },
      "source": [
        "type(df['Wscore'])"
      ],
      "execution_count": null,
      "outputs": [
        {
          "output_type": "execute_result",
          "data": {
            "text/plain": [
              "pandas.core.series.Series"
            ]
          },
          "metadata": {},
          "execution_count": 50
        }
      ]
    },
    {
      "cell_type": "code",
      "metadata": {
        "id": "-w9lTS5Pwy9a",
        "colab": {
          "base_uri": "https://localhost:8080/"
        },
        "outputId": "a332e3ec-8d74-4111-8467-ce70608dc4f4"
      },
      "source": [
        "type(df[['Wscore']])"
      ],
      "execution_count": null,
      "outputs": [
        {
          "output_type": "execute_result",
          "data": {
            "text/plain": [
              "pandas.core.frame.DataFrame"
            ]
          },
          "metadata": {},
          "execution_count": 51
        }
      ]
    },
    {
      "cell_type": "markdown",
      "metadata": {
        "id": "BmFZWYeCwy9a"
      },
      "source": [
        "You've seen before that you can access columns through df['col name']. You can access rows by using slicing operations. "
      ]
    },
    {
      "cell_type": "code",
      "metadata": {
        "id": "WvC6mSgWwy9a",
        "colab": {
          "base_uri": "https://localhost:8080/",
          "height": 142
        },
        "outputId": "59740cea-f248-4f35-9b7b-b46fee0a9ff6"
      },
      "source": [
        "df[0:3]"
      ],
      "execution_count": null,
      "outputs": [
        {
          "output_type": "execute_result",
          "data": {
            "text/html": [
              "<div>\n",
              "<style scoped>\n",
              "    .dataframe tbody tr th:only-of-type {\n",
              "        vertical-align: middle;\n",
              "    }\n",
              "\n",
              "    .dataframe tbody tr th {\n",
              "        vertical-align: top;\n",
              "    }\n",
              "\n",
              "    .dataframe thead th {\n",
              "        text-align: right;\n",
              "    }\n",
              "</style>\n",
              "<table border=\"1\" class=\"dataframe\">\n",
              "  <thead>\n",
              "    <tr style=\"text-align: right;\">\n",
              "      <th></th>\n",
              "      <th>Season</th>\n",
              "      <th>Daynum</th>\n",
              "      <th>Wteam</th>\n",
              "      <th>Wscore</th>\n",
              "      <th>Lteam</th>\n",
              "      <th>Lscore</th>\n",
              "      <th>Wloc</th>\n",
              "      <th>Numot</th>\n",
              "    </tr>\n",
              "  </thead>\n",
              "  <tbody>\n",
              "    <tr>\n",
              "      <th>0</th>\n",
              "      <td>1985</td>\n",
              "      <td>20</td>\n",
              "      <td>1228</td>\n",
              "      <td>81</td>\n",
              "      <td>1328</td>\n",
              "      <td>64</td>\n",
              "      <td>N</td>\n",
              "      <td>0</td>\n",
              "    </tr>\n",
              "    <tr>\n",
              "      <th>1</th>\n",
              "      <td>1985</td>\n",
              "      <td>25</td>\n",
              "      <td>1106</td>\n",
              "      <td>77</td>\n",
              "      <td>1354</td>\n",
              "      <td>70</td>\n",
              "      <td>H</td>\n",
              "      <td>0</td>\n",
              "    </tr>\n",
              "    <tr>\n",
              "      <th>2</th>\n",
              "      <td>1985</td>\n",
              "      <td>25</td>\n",
              "      <td>1112</td>\n",
              "      <td>63</td>\n",
              "      <td>1223</td>\n",
              "      <td>56</td>\n",
              "      <td>H</td>\n",
              "      <td>0</td>\n",
              "    </tr>\n",
              "  </tbody>\n",
              "</table>\n",
              "</div>"
            ],
            "text/plain": [
              "   Season  Daynum  Wteam  Wscore  Lteam  Lscore Wloc  Numot\n",
              "0    1985      20   1228      81   1328      64    N      0\n",
              "1    1985      25   1106      77   1354      70    H      0\n",
              "2    1985      25   1112      63   1223      56    H      0"
            ]
          },
          "metadata": {},
          "execution_count": 52
        }
      ]
    },
    {
      "cell_type": "markdown",
      "metadata": {
        "id": "GUJa40nzwy9a"
      },
      "source": [
        "Here's an equivalent using iloc"
      ]
    },
    {
      "cell_type": "code",
      "metadata": {
        "id": "LZFrp1Qlwy9a",
        "colab": {
          "base_uri": "https://localhost:8080/",
          "height": 142
        },
        "outputId": "e072fc51-af01-4c88-ee48-a5d8eec987c3"
      },
      "source": [
        "df.iloc[0:3,:]"
      ],
      "execution_count": null,
      "outputs": [
        {
          "output_type": "execute_result",
          "data": {
            "text/html": [
              "<div>\n",
              "<style scoped>\n",
              "    .dataframe tbody tr th:only-of-type {\n",
              "        vertical-align: middle;\n",
              "    }\n",
              "\n",
              "    .dataframe tbody tr th {\n",
              "        vertical-align: top;\n",
              "    }\n",
              "\n",
              "    .dataframe thead th {\n",
              "        text-align: right;\n",
              "    }\n",
              "</style>\n",
              "<table border=\"1\" class=\"dataframe\">\n",
              "  <thead>\n",
              "    <tr style=\"text-align: right;\">\n",
              "      <th></th>\n",
              "      <th>Season</th>\n",
              "      <th>Daynum</th>\n",
              "      <th>Wteam</th>\n",
              "      <th>Wscore</th>\n",
              "      <th>Lteam</th>\n",
              "      <th>Lscore</th>\n",
              "      <th>Wloc</th>\n",
              "      <th>Numot</th>\n",
              "    </tr>\n",
              "  </thead>\n",
              "  <tbody>\n",
              "    <tr>\n",
              "      <th>0</th>\n",
              "      <td>1985</td>\n",
              "      <td>20</td>\n",
              "      <td>1228</td>\n",
              "      <td>81</td>\n",
              "      <td>1328</td>\n",
              "      <td>64</td>\n",
              "      <td>N</td>\n",
              "      <td>0</td>\n",
              "    </tr>\n",
              "    <tr>\n",
              "      <th>1</th>\n",
              "      <td>1985</td>\n",
              "      <td>25</td>\n",
              "      <td>1106</td>\n",
              "      <td>77</td>\n",
              "      <td>1354</td>\n",
              "      <td>70</td>\n",
              "      <td>H</td>\n",
              "      <td>0</td>\n",
              "    </tr>\n",
              "    <tr>\n",
              "      <th>2</th>\n",
              "      <td>1985</td>\n",
              "      <td>25</td>\n",
              "      <td>1112</td>\n",
              "      <td>63</td>\n",
              "      <td>1223</td>\n",
              "      <td>56</td>\n",
              "      <td>H</td>\n",
              "      <td>0</td>\n",
              "    </tr>\n",
              "  </tbody>\n",
              "</table>\n",
              "</div>"
            ],
            "text/plain": [
              "   Season  Daynum  Wteam  Wscore  Lteam  Lscore Wloc  Numot\n",
              "0    1985      20   1228      81   1328      64    N      0\n",
              "1    1985      25   1106      77   1354      70    H      0\n",
              "2    1985      25   1112      63   1223      56    H      0"
            ]
          },
          "metadata": {},
          "execution_count": 53
        }
      ]
    },
    {
      "cell_type": "markdown",
      "metadata": {
        "id": "gUd0Cjk9wy9a"
      },
      "source": [
        "# Data Cleaning"
      ]
    },
    {
      "cell_type": "markdown",
      "metadata": {
        "id": "pdXuwm9iwy9a"
      },
      "source": [
        "One of the big jobs of doing well in Kaggle competitions is that of data cleaning. A lot of times, the CSV file you're given (especially like in the Titanic dataset), you'll have a lot of missing values in the dataset, which you have to identify. The following **isnull** function will figure out if there are any missing values in the dataframe, and will then sum up the total for each column. In this case, we have a pretty clean dataset."
      ]
    },
    {
      "cell_type": "code",
      "metadata": {
        "id": "j9q3R6gDwy9a",
        "colab": {
          "base_uri": "https://localhost:8080/"
        },
        "outputId": "3e7f271a-dcd5-4dee-9464-36ba08f2e347"
      },
      "source": [
        "df.isnull().sum()"
      ],
      "execution_count": null,
      "outputs": [
        {
          "output_type": "execute_result",
          "data": {
            "text/plain": [
              "Season    0\n",
              "Daynum    0\n",
              "Wteam     0\n",
              "Wscore    0\n",
              "Lteam     0\n",
              "Lscore    0\n",
              "Wloc      0\n",
              "Numot     0\n",
              "dtype: int64"
            ]
          },
          "metadata": {},
          "execution_count": 54
        }
      ]
    },
    {
      "cell_type": "markdown",
      "metadata": {
        "id": "tzUj7FYbwy9b"
      },
      "source": [
        "If you do end up having missing values in your datasets, be sure to get familiar with these two functions. \n",
        "* **dropna()** - This function allows you to drop all(or some) of the rows that have missing values. \n",
        "* **fillna()** - This function allows you replace the rows that have missing values with the value that you pass in."
      ]
    },
    {
      "cell_type": "markdown",
      "metadata": {
        "id": "8YqVa9FDwy9b"
      },
      "source": [
        "# Visualizing Data"
      ]
    },
    {
      "cell_type": "markdown",
      "metadata": {
        "id": "6JuglC0-wy9b"
      },
      "source": [
        "An interesting way of displaying Dataframes is through matplotlib. "
      ]
    },
    {
      "cell_type": "code",
      "metadata": {
        "collapsed": true,
        "id": "s0YVzBfjwy9b"
      },
      "source": [
        "import matplotlib.pyplot as plt\n",
        "%matplotlib inline"
      ],
      "execution_count": null,
      "outputs": []
    },
    {
      "cell_type": "code",
      "metadata": {
        "id": "2Oc4ooxRwy9b",
        "colab": {
          "base_uri": "https://localhost:8080/",
          "height": 296
        },
        "outputId": "28a84a8a-e282-41fa-9ec8-e8ab1719c9d7"
      },
      "source": [
        "ax = df['Wscore'].plot.hist(bins=20)\n",
        "ax.set_xlabel('Points for Winning Team')"
      ],
      "execution_count": null,
      "outputs": [
        {
          "output_type": "execute_result",
          "data": {
            "text/plain": [
              "Text(0.5, 0, 'Points for Winning Team')"
            ]
          },
          "metadata": {},
          "execution_count": 32
        },
        {
          "output_type": "display_data",
          "data": {
            "image/png": "[encoded data removed]",
            "text/plain": [
              "<Figure size 432x288 with 1 Axes>"
            ]
          },
          "metadata": {
            "needs_background": "light"
          }
        }
      ]
    },
    {
      "cell_type": "markdown",
      "metadata": {
        "id": "OxJFwkXqwy9b"
      },
      "source": [
        "This isn't directly Pandas related, but I assume that most people who use Pandas probably do a lot of Kaggle competitions as well. As you probably know, Kaggle competitions require you to create a CSV of your predictions. Here's some starter code that can help you create that csv file"
      ]
    },
    {
      "cell_type": "code",
      "metadata": {
        "id": "sxWbmrJdwy9b",
        "colab": {
          "base_uri": "https://localhost:8080/"
        },
        "outputId": "1ed7f114-3f24-4e7f-f523-a8a4aeb9ed48"
      },
      "source": [
        "import numpy as np\n",
        "import csv\n",
        "\n",
        "results = [[0,10],[1,15],[2,20]]\n",
        "results = pd.np.array(results)\n",
        "print (results)"
      ],
      "execution_count": null,
      "outputs": [
        {
          "output_type": "stream",
          "name": "stdout",
          "text": [
            "[[ 0 10]\n",
            " [ 1 15]\n",
            " [ 2 20]]\n"
          ]
        },
        {
          "output_type": "stream",
          "name": "stderr",
          "text": [
            "/usr/local/lib/python3.7/dist-packages/ipykernel_launcher.py:5: FutureWarning: The pandas.np module is deprecated and will be removed from pandas in a future version. Import numpy directly instead\n",
            "  \"\"\"\n"
          ]
        }
      ]
    },
    {
      "cell_type": "markdown",
      "metadata": {
        "id": "y2phBFx9ignj"
      },
      "source": [
        "# Matplotlib"
      ]
    },
    {
      "cell_type": "code",
      "metadata": {
        "id": "9ZBjsXFyob8n"
      },
      "source": [
        "RegularSeasonCompactResults=df.copy()"
      ],
      "execution_count": null,
      "outputs": []
    },
    {
      "cell_type": "code",
      "metadata": {
        "colab": {
          "base_uri": "https://localhost:8080/",
          "height": 282
        },
        "id": "I2Pkr7Jjiex3",
        "outputId": "1a921707-cfe0-4e92-f375-5498b6c329cb"
      },
      "source": [
        "RegularSeasonCompactResults[\"Wloc\"].value_counts().plot(kind='barh')"
      ],
      "execution_count": null,
      "outputs": [
        {
          "output_type": "execute_result",
          "data": {
            "text/plain": [
              "<matplotlib.axes._subplots.AxesSubplot at 0x7f90d584fdd0>"
            ]
          },
          "metadata": {},
          "execution_count": 34
        },
        {
          "output_type": "display_data",
          "data": {
            "image/png": "[encoded data removed]",
            "text/plain": [
              "<Figure size 432x288 with 1 Axes>"
            ]
          },
          "metadata": {
            "needs_background": "light"
          }
        }
      ]
    },
    {
      "cell_type": "code",
      "metadata": {
        "colab": {
          "base_uri": "https://localhost:8080/",
          "height": 296
        },
        "id": "FOpkw8BvitvX",
        "outputId": "fa0cf5ae-e1f3-43d1-cfac-4bc59b7a13ef"
      },
      "source": [
        "# The first way we can plot things is using the .plot extension from Pandas dataframes\n",
        "# We'll use this to make a scatterplot of the RegularSeasonCompactResults features.\n",
        "RegularSeasonCompactResults.plot(kind=\"scatter\", x=\"Lscore\", y=\"Wscore\")"
      ],
      "execution_count": null,
      "outputs": [
        {
          "output_type": "execute_result",
          "data": {
            "text/plain": [
              "<matplotlib.axes._subplots.AxesSubplot at 0x7f90d57b3390>"
            ]
          },
          "metadata": {},
          "execution_count": 35
        },
        {
          "output_type": "display_data",
          "data": {
            "image/png": "[encoded data removed]",
            "text/plain": [
              "<Figure size 432x288 with 1 Axes>"
            ]
          },
          "metadata": {
            "needs_background": "light"
          }
        }
      ]
    },
    {
      "cell_type": "code",
      "metadata": {
        "colab": {
          "base_uri": "https://localhost:8080/",
          "height": 440
        },
        "id": "IYLGQWW-i5Yc",
        "outputId": "ad2b627d-8203-4848-cd9e-2db8ceb8cf92"
      },
      "source": [
        "# We can also use the seaborn library to make a similar plot\n",
        "# A seaborn jointplot shows bivariate scatterplots and univariate histograms in the same figure\n",
        "import seaborn as sns\n",
        "\n",
        "sns.jointplot(x=\"Lscore\", y=\"Wscore\", data=RegularSeasonCompactResults, size=5)"
      ],
      "execution_count": null,
      "outputs": [
        {
          "output_type": "stream",
          "name": "stderr",
          "text": [
            "/usr/local/lib/python3.7/dist-packages/seaborn/axisgrid.py:2073: UserWarning: The `size` parameter has been renamed to `height`; please update your code.\n",
            "  warnings.warn(msg, UserWarning)\n"
          ]
        },
        {
          "output_type": "execute_result",
          "data": {
            "text/plain": [
              "<seaborn.axisgrid.JointGrid at 0x7f90c751e450>"
            ]
          },
          "metadata": {},
          "execution_count": 37
        },
        {
          "output_type": "display_data",
          "data": {
            "image/png": "[encoded data removed]",
            "text/plain": [
              "<Figure size 360x360 with 3 Axes>"
            ]
          },
          "metadata": {
            "needs_background": "light"
          }
        }
      ]
    },
    {
      "cell_type": "code",
      "metadata": {
        "colab": {
          "base_uri": "https://localhost:8080/",
          "height": 600
        },
        "id": "NjS0l4I3jJFZ",
        "outputId": "52f60bd6-b81a-424c-cb96-7c3a88675e64"
      },
      "source": [
        "sns.FacetGrid(RegularSeasonCompactResults, hue=\"Season\", size=5) \\\n",
        "   .map(plt.scatter, \"Daynum\", \"Wscore\") \\\n",
        "   .add_legend()"
      ],
      "execution_count": null,
      "outputs": [
        {
          "output_type": "stream",
          "name": "stderr",
          "text": [
            "/usr/local/lib/python3.7/dist-packages/seaborn/axisgrid.py:316: UserWarning: The `size` parameter has been renamed to `height`; please update your code.\n",
            "  warnings.warn(msg, UserWarning)\n"
          ]
        },
        {
          "output_type": "execute_result",
          "data": {
            "text/plain": [
              "<seaborn.axisgrid.FacetGrid at 0x7f90bdb1db10>"
            ]
          },
          "metadata": {},
          "execution_count": 38
        },
        {
          "output_type": "display_data",
          "data": {
            "image/png": "[encoded data removed]",
            "text/plain": [
              "<Figure size 421.5x360 with 1 Axes>"
            ]
          },
          "metadata": {
            "needs_background": "light"
          }
        }
      ]
    },
    {
      "cell_type": "code",
      "metadata": {
        "colab": {
          "base_uri": "https://localhost:8080/",
          "height": 296
        },
        "id": "Qki_Sz4TjMEH",
        "outputId": "b7ed90e4-2b10-43eb-b347-df445653ff9c"
      },
      "source": [
        "# We can look at an individual feature in Seaborn through a boxplot\n",
        "sns.boxplot(x=\"Season\", y=\"Wscore\", data=RegularSeasonCompactResults)"
      ],
      "execution_count": null,
      "outputs": [
        {
          "output_type": "execute_result",
          "data": {
            "text/plain": [
              "<matplotlib.axes._subplots.AxesSubplot at 0x7f90bda0a2d0>"
            ]
          },
          "metadata": {},
          "execution_count": 39
        },
        {
          "output_type": "display_data",
          "data": {
            "image/png": "[encoded data removed]",
            "text/plain": [
              "<Figure size 432x288 with 1 Axes>"
            ]
          },
          "metadata": {
            "needs_background": "light"
          }
        }
      ]
    },
    {
      "cell_type": "code",
      "metadata": {
        "colab": {
          "base_uri": "https://localhost:8080/",
          "height": 512
        },
        "id": "fBasZEDznFT0",
        "outputId": "18ae2207-6e96-4980-dbeb-d512a9fc88c8"
      },
      "source": [
        "sns.FacetGrid(RegularSeasonCompactResults, hue=\"Wloc\", size=6) \\\n",
        "   .map(sns.kdeplot, \"Wscore\") \\\n",
        "   .add_legend()"
      ],
      "execution_count": null,
      "outputs": [
        {
          "output_type": "stream",
          "name": "stderr",
          "text": [
            "/usr/local/lib/python3.7/dist-packages/seaborn/axisgrid.py:316: UserWarning: The `size` parameter has been renamed to `height`; please update your code.\n",
            "  warnings.warn(msg, UserWarning)\n"
          ]
        },
        {
          "output_type": "execute_result",
          "data": {
            "text/plain": [
              "<seaborn.axisgrid.FacetGrid at 0x7f90bbe66dd0>"
            ]
          },
          "metadata": {},
          "execution_count": 40
        },
        {
          "output_type": "display_data",
          "data": {
            "image/png": "[encoded data removed]",
            "text/plain": [
              "<Figure size 475.5x432 with 1 Axes>"
            ]
          },
          "metadata": {
            "needs_background": "light"
          }
        }
      ]
    },
    {
      "cell_type": "code",
      "metadata": {
        "id": "j-1mNYG6iLB1"
      },
      "source": [
        ""
      ],
      "execution_count": null,
      "outputs": []
    }
  ]
}